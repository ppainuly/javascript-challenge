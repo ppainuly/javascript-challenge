{
 "cells": [
  {
   "cell_type": "markdown",
   "metadata": {},
   "source": [
    "## Generate UFO dataset "
   ]
  },
  {
   "cell_type": "markdown",
   "metadata": {},
   "source": [
    "### This notebook uses raw UFO data from https://github.com/planetsig/ufo-reports and cleans it up. Exports the clean data into json file to be used by the UFO app."
   ]
  },
  {
   "cell_type": "markdown",
   "metadata": {},
   "source": [
    "### The data was scrubbed and already clean to begin with, this notebook further organises it to best fit this specific project. "
   ]
  },
  {
   "cell_type": "code",
   "execution_count": 59,
   "metadata": {},
   "outputs": [],
   "source": [
    "import pandas as pd\n",
    "import pymongo\n"
   ]
  },
  {
   "cell_type": "code",
   "execution_count": 37,
   "metadata": {},
   "outputs": [],
   "source": [
    "df = pd.read_csv(\"data/scrubbed.csv\", sep=',', error_bad_lines=False, index_col=False, dtype='unicode') "
   ]
  },
  {
   "cell_type": "code",
   "execution_count": 38,
   "metadata": {},
   "outputs": [
    {
     "data": {
      "text/html": [
       "<div>\n",
       "<style scoped>\n",
       "    .dataframe tbody tr th:only-of-type {\n",
       "        vertical-align: middle;\n",
       "    }\n",
       "\n",
       "    .dataframe tbody tr th {\n",
       "        vertical-align: top;\n",
       "    }\n",
       "\n",
       "    .dataframe thead th {\n",
       "        text-align: right;\n",
       "    }\n",
       "</style>\n",
       "<table border=\"1\" class=\"dataframe\">\n",
       "  <thead>\n",
       "    <tr style=\"text-align: right;\">\n",
       "      <th></th>\n",
       "      <th>datetime</th>\n",
       "      <th>city</th>\n",
       "      <th>state</th>\n",
       "      <th>country</th>\n",
       "      <th>shape</th>\n",
       "      <th>duration (seconds)</th>\n",
       "      <th>duration (hours/min)</th>\n",
       "      <th>comments</th>\n",
       "      <th>date posted</th>\n",
       "      <th>latitude</th>\n",
       "      <th>longitude</th>\n",
       "    </tr>\n",
       "  </thead>\n",
       "  <tbody>\n",
       "    <tr>\n",
       "      <th>0</th>\n",
       "      <td>10/10/1949 20:30</td>\n",
       "      <td>san marcos</td>\n",
       "      <td>tx</td>\n",
       "      <td>us</td>\n",
       "      <td>cylinder</td>\n",
       "      <td>2700</td>\n",
       "      <td>45 minutes</td>\n",
       "      <td>This event took place in early fall around 194...</td>\n",
       "      <td>4/27/2004</td>\n",
       "      <td>29.8830556</td>\n",
       "      <td>-97.9411111</td>\n",
       "    </tr>\n",
       "    <tr>\n",
       "      <th>1</th>\n",
       "      <td>10/10/1949 21:00</td>\n",
       "      <td>lackland afb</td>\n",
       "      <td>tx</td>\n",
       "      <td>NaN</td>\n",
       "      <td>light</td>\n",
       "      <td>7200</td>\n",
       "      <td>1-2 hrs</td>\n",
       "      <td>1949 Lackland AFB&amp;#44 TX.  Lights racing acros...</td>\n",
       "      <td>12/16/2005</td>\n",
       "      <td>29.38421</td>\n",
       "      <td>-98.581082</td>\n",
       "    </tr>\n",
       "    <tr>\n",
       "      <th>2</th>\n",
       "      <td>10/10/1955 17:00</td>\n",
       "      <td>chester (uk/england)</td>\n",
       "      <td>NaN</td>\n",
       "      <td>gb</td>\n",
       "      <td>circle</td>\n",
       "      <td>20</td>\n",
       "      <td>20 seconds</td>\n",
       "      <td>Green/Orange circular disc over Chester&amp;#44 En...</td>\n",
       "      <td>1/21/2008</td>\n",
       "      <td>53.2</td>\n",
       "      <td>-2.916667</td>\n",
       "    </tr>\n",
       "    <tr>\n",
       "      <th>3</th>\n",
       "      <td>10/10/1956 21:00</td>\n",
       "      <td>edna</td>\n",
       "      <td>tx</td>\n",
       "      <td>us</td>\n",
       "      <td>circle</td>\n",
       "      <td>20</td>\n",
       "      <td>1/2 hour</td>\n",
       "      <td>My older brother and twin sister were leaving ...</td>\n",
       "      <td>1/17/2004</td>\n",
       "      <td>28.9783333</td>\n",
       "      <td>-96.6458333</td>\n",
       "    </tr>\n",
       "    <tr>\n",
       "      <th>4</th>\n",
       "      <td>10/10/1960 20:00</td>\n",
       "      <td>kaneohe</td>\n",
       "      <td>hi</td>\n",
       "      <td>us</td>\n",
       "      <td>light</td>\n",
       "      <td>900</td>\n",
       "      <td>15 minutes</td>\n",
       "      <td>AS a Marine 1st Lt. flying an FJ4B fighter/att...</td>\n",
       "      <td>1/22/2004</td>\n",
       "      <td>21.4180556</td>\n",
       "      <td>-157.8036111</td>\n",
       "    </tr>\n",
       "  </tbody>\n",
       "</table>\n",
       "</div>"
      ],
      "text/plain": [
       "           datetime                  city state country     shape  \\\n",
       "0  10/10/1949 20:30            san marcos    tx      us  cylinder   \n",
       "1  10/10/1949 21:00          lackland afb    tx     NaN     light   \n",
       "2  10/10/1955 17:00  chester (uk/england)   NaN      gb    circle   \n",
       "3  10/10/1956 21:00                  edna    tx      us    circle   \n",
       "4  10/10/1960 20:00               kaneohe    hi      us     light   \n",
       "\n",
       "  duration (seconds) duration (hours/min)  \\\n",
       "0               2700           45 minutes   \n",
       "1               7200              1-2 hrs   \n",
       "2                 20           20 seconds   \n",
       "3                 20             1/2 hour   \n",
       "4                900           15 minutes   \n",
       "\n",
       "                                            comments date posted    latitude  \\\n",
       "0  This event took place in early fall around 194...   4/27/2004  29.8830556   \n",
       "1  1949 Lackland AFB&#44 TX.  Lights racing acros...  12/16/2005    29.38421   \n",
       "2  Green/Orange circular disc over Chester&#44 En...   1/21/2008        53.2   \n",
       "3  My older brother and twin sister were leaving ...   1/17/2004  28.9783333   \n",
       "4  AS a Marine 1st Lt. flying an FJ4B fighter/att...   1/22/2004  21.4180556   \n",
       "\n",
       "     longitude   \n",
       "0   -97.9411111  \n",
       "1    -98.581082  \n",
       "2     -2.916667  \n",
       "3   -96.6458333  \n",
       "4  -157.8036111  "
      ]
     },
     "execution_count": 38,
     "metadata": {},
     "output_type": "execute_result"
    }
   ],
   "source": [
    "df.head()"
   ]
  },
  {
   "cell_type": "code",
   "execution_count": 39,
   "metadata": {},
   "outputs": [],
   "source": [
    "# Change to Camel Case\n",
    "\n",
    "df[\"city\"]= df[\"city\"].str.upper().str.title() \n",
    "df[\"state\"]= df[\"state\"].str.upper()\n",
    "df[\"country\"]= df[\"country\"].str.upper()\n",
    "df[\"shape\"]= df[\"shape\"].str.upper().str.title() "
   ]
  },
  {
   "cell_type": "code",
   "execution_count": 40,
   "metadata": {},
   "outputs": [
    {
     "data": {
      "text/html": [
       "<div>\n",
       "<style scoped>\n",
       "    .dataframe tbody tr th:only-of-type {\n",
       "        vertical-align: middle;\n",
       "    }\n",
       "\n",
       "    .dataframe tbody tr th {\n",
       "        vertical-align: top;\n",
       "    }\n",
       "\n",
       "    .dataframe thead th {\n",
       "        text-align: right;\n",
       "    }\n",
       "</style>\n",
       "<table border=\"1\" class=\"dataframe\">\n",
       "  <thead>\n",
       "    <tr style=\"text-align: right;\">\n",
       "      <th></th>\n",
       "      <th>datetime</th>\n",
       "      <th>city</th>\n",
       "      <th>state</th>\n",
       "      <th>country</th>\n",
       "      <th>shape</th>\n",
       "      <th>duration (seconds)</th>\n",
       "      <th>duration (hours/min)</th>\n",
       "      <th>comments</th>\n",
       "      <th>date posted</th>\n",
       "      <th>latitude</th>\n",
       "      <th>longitude</th>\n",
       "    </tr>\n",
       "  </thead>\n",
       "  <tbody>\n",
       "    <tr>\n",
       "      <th>0</th>\n",
       "      <td>10/10/1949 20:30</td>\n",
       "      <td>San Marcos</td>\n",
       "      <td>TX</td>\n",
       "      <td>US</td>\n",
       "      <td>Cylinder</td>\n",
       "      <td>2700</td>\n",
       "      <td>45 minutes</td>\n",
       "      <td>This event took place in early fall around 194...</td>\n",
       "      <td>4/27/2004</td>\n",
       "      <td>29.8830556</td>\n",
       "      <td>-97.9411111</td>\n",
       "    </tr>\n",
       "    <tr>\n",
       "      <th>1</th>\n",
       "      <td>10/10/1949 21:00</td>\n",
       "      <td>Lackland Afb</td>\n",
       "      <td>TX</td>\n",
       "      <td>NaN</td>\n",
       "      <td>Light</td>\n",
       "      <td>7200</td>\n",
       "      <td>1-2 hrs</td>\n",
       "      <td>1949 Lackland AFB&amp;#44 TX.  Lights racing acros...</td>\n",
       "      <td>12/16/2005</td>\n",
       "      <td>29.38421</td>\n",
       "      <td>-98.581082</td>\n",
       "    </tr>\n",
       "    <tr>\n",
       "      <th>2</th>\n",
       "      <td>10/10/1955 17:00</td>\n",
       "      <td>Chester (Uk/England)</td>\n",
       "      <td>NaN</td>\n",
       "      <td>GB</td>\n",
       "      <td>Circle</td>\n",
       "      <td>20</td>\n",
       "      <td>20 seconds</td>\n",
       "      <td>Green/Orange circular disc over Chester&amp;#44 En...</td>\n",
       "      <td>1/21/2008</td>\n",
       "      <td>53.2</td>\n",
       "      <td>-2.916667</td>\n",
       "    </tr>\n",
       "    <tr>\n",
       "      <th>3</th>\n",
       "      <td>10/10/1956 21:00</td>\n",
       "      <td>Edna</td>\n",
       "      <td>TX</td>\n",
       "      <td>US</td>\n",
       "      <td>Circle</td>\n",
       "      <td>20</td>\n",
       "      <td>1/2 hour</td>\n",
       "      <td>My older brother and twin sister were leaving ...</td>\n",
       "      <td>1/17/2004</td>\n",
       "      <td>28.9783333</td>\n",
       "      <td>-96.6458333</td>\n",
       "    </tr>\n",
       "    <tr>\n",
       "      <th>4</th>\n",
       "      <td>10/10/1960 20:00</td>\n",
       "      <td>Kaneohe</td>\n",
       "      <td>HI</td>\n",
       "      <td>US</td>\n",
       "      <td>Light</td>\n",
       "      <td>900</td>\n",
       "      <td>15 minutes</td>\n",
       "      <td>AS a Marine 1st Lt. flying an FJ4B fighter/att...</td>\n",
       "      <td>1/22/2004</td>\n",
       "      <td>21.4180556</td>\n",
       "      <td>-157.8036111</td>\n",
       "    </tr>\n",
       "  </tbody>\n",
       "</table>\n",
       "</div>"
      ],
      "text/plain": [
       "           datetime                  city state country     shape  \\\n",
       "0  10/10/1949 20:30            San Marcos    TX      US  Cylinder   \n",
       "1  10/10/1949 21:00          Lackland Afb    TX     NaN     Light   \n",
       "2  10/10/1955 17:00  Chester (Uk/England)   NaN      GB    Circle   \n",
       "3  10/10/1956 21:00                  Edna    TX      US    Circle   \n",
       "4  10/10/1960 20:00               Kaneohe    HI      US     Light   \n",
       "\n",
       "  duration (seconds) duration (hours/min)  \\\n",
       "0               2700           45 minutes   \n",
       "1               7200              1-2 hrs   \n",
       "2                 20           20 seconds   \n",
       "3                 20             1/2 hour   \n",
       "4                900           15 minutes   \n",
       "\n",
       "                                            comments date posted    latitude  \\\n",
       "0  This event took place in early fall around 194...   4/27/2004  29.8830556   \n",
       "1  1949 Lackland AFB&#44 TX.  Lights racing acros...  12/16/2005    29.38421   \n",
       "2  Green/Orange circular disc over Chester&#44 En...   1/21/2008        53.2   \n",
       "3  My older brother and twin sister were leaving ...   1/17/2004  28.9783333   \n",
       "4  AS a Marine 1st Lt. flying an FJ4B fighter/att...   1/22/2004  21.4180556   \n",
       "\n",
       "     longitude   \n",
       "0   -97.9411111  \n",
       "1    -98.581082  \n",
       "2     -2.916667  \n",
       "3   -96.6458333  \n",
       "4  -157.8036111  "
      ]
     },
     "execution_count": 40,
     "metadata": {},
     "output_type": "execute_result"
    }
   ],
   "source": [
    "df.head()"
   ]
  },
  {
   "cell_type": "code",
   "execution_count": 41,
   "metadata": {},
   "outputs": [],
   "source": [
    "df[['date','time']] = df.datetime.str.split(expand=True) "
   ]
  },
  {
   "cell_type": "code",
   "execution_count": 42,
   "metadata": {},
   "outputs": [],
   "source": [
    "# Remove duration(hours/min) and date posted\n",
    "df = df.drop(columns=['duration (hours/min)', 'date posted'])"
   ]
  },
  {
   "cell_type": "code",
   "execution_count": 55,
   "metadata": {},
   "outputs": [],
   "source": [
    "# Filter only for United States\n",
    "df = df[df[\"country\"] == \"US\"]"
   ]
  },
  {
   "cell_type": "code",
   "execution_count": 56,
   "metadata": {},
   "outputs": [],
   "source": [
    "# Arange into dictionary\n",
    "df_dict = df.to_dict('records')"
   ]
  },
  {
   "cell_type": "code",
   "execution_count": 57,
   "metadata": {},
   "outputs": [],
   "source": [
    "# Export as a json to be used by the javascript script\n",
    "import json\n",
    "with open('data/ufo_data.json', 'w') as outfile:\n",
    "    json.dump(df_dict, outfile)"
   ]
  },
  {
   "cell_type": "code",
   "execution_count": 66,
   "metadata": {},
   "outputs": [
    {
     "data": {
      "text/plain": [
       "[{'datetime': '10/10/1949 20:30',\n",
       "  'city': 'San Marcos',\n",
       "  'state': 'TX',\n",
       "  'country': 'US',\n",
       "  'shape': 'Cylinder',\n",
       "  'duration (seconds)': '2700',\n",
       "  'comments': 'This event took place in early fall around 1949-50. It occurred after a Boy Scout meeting in the Baptist Church. The Baptist Church sit',\n",
       "  'latitude': '29.8830556',\n",
       "  'longitude ': '-97.9411111',\n",
       "  'date': '10/10/1949',\n",
       "  'time': '20:30',\n",
       "  '_id': ObjectId('5d896c27e6d7c94cdb8a36bc')},\n",
       " {'datetime': '10/10/1956 21:00',\n",
       "  'city': 'Edna',\n",
       "  'state': 'TX',\n",
       "  'country': 'US',\n",
       "  'shape': 'Circle',\n",
       "  'duration (seconds)': '20',\n",
       "  'comments': 'My older brother and twin sister were leaving the only Edna theater at about 9 PM&#44...we had our bikes and I took a different route home',\n",
       "  'latitude': '28.9783333',\n",
       "  'longitude ': '-96.6458333',\n",
       "  'date': '10/10/1956',\n",
       "  'time': '21:00',\n",
       "  '_id': ObjectId('5d896c27e6d7c94cdb8a36bd')},\n",
       " {'datetime': '10/10/1960 20:00',\n",
       "  'city': 'Kaneohe',\n",
       "  'state': 'HI',\n",
       "  'country': 'US',\n",
       "  'shape': 'Light',\n",
       "  'duration (seconds)': '900',\n",
       "  'comments': 'AS a Marine 1st Lt. flying an FJ4B fighter/attack aircraft on a solo night exercise&#44 I was at 50&#44000&#39 in a &quot;clean&quot; aircraft (no ordinan',\n",
       "  'latitude': '21.4180556',\n",
       "  'longitude ': '-157.8036111',\n",
       "  'date': '10/10/1960',\n",
       "  'time': '20:00',\n",
       "  '_id': ObjectId('5d896c27e6d7c94cdb8a36be')},\n",
       " {'datetime': '10/10/1961 19:00',\n",
       "  'city': 'Bristol',\n",
       "  'state': 'TN',\n",
       "  'country': 'US',\n",
       "  'shape': 'Sphere',\n",
       "  'duration (seconds)': '300',\n",
       "  'comments': 'My father is now 89 my brother 52 the girl with us now 51 myself 49 and the other fellow which worked with my father if he&#39s still livi',\n",
       "  'latitude': '36.5950000',\n",
       "  'longitude ': '-82.1888889',\n",
       "  'date': '10/10/1961',\n",
       "  'time': '19:00',\n",
       "  '_id': ObjectId('5d896c27e6d7c94cdb8a36bf')},\n",
       " {'datetime': '10/10/1965 23:45',\n",
       "  'city': 'Norwalk',\n",
       "  'state': 'CT',\n",
       "  'country': 'US',\n",
       "  'shape': 'Disk',\n",
       "  'duration (seconds)': '1200',\n",
       "  'comments': 'A bright orange color changing to reddish color disk/saucer was observed hovering above power transmission lines.',\n",
       "  'latitude': '41.1175000',\n",
       "  'longitude ': '-73.4083333',\n",
       "  'date': '10/10/1965',\n",
       "  'time': '23:45',\n",
       "  '_id': ObjectId('5d896c27e6d7c94cdb8a36c0')}]"
      ]
     },
     "execution_count": 66,
     "metadata": {},
     "output_type": "execute_result"
    }
   ],
   "source": [
    "df_dict[0:5]"
   ]
  },
  {
   "cell_type": "code",
   "execution_count": 67,
   "metadata": {},
   "outputs": [],
   "source": [
    "# Set up Mongo Connection\n",
    "conn = \"mongodb://localhost:27017\"\n",
    "client = pymongo.MongoClient(conn)"
   ]
  },
  {
   "cell_type": "code",
   "execution_count": 68,
   "metadata": {},
   "outputs": [],
   "source": [
    "## Set up Mongo Database and Collection\n",
    "db = client.ufo\n",
    "db.ufo_data.drop()"
   ]
  },
  {
   "cell_type": "code",
   "execution_count": 69,
   "metadata": {},
   "outputs": [
    {
     "data": {
      "text/plain": [
       "<pymongo.results.InsertManyResult at 0x12ca6a048>"
      ]
     },
     "execution_count": 69,
     "metadata": {},
     "output_type": "execute_result"
    }
   ],
   "source": [
    "# Insert data into Mongo\n",
    "db.ufo_data.insert_many(df_dict)"
   ]
  },
  {
   "cell_type": "code",
   "execution_count": 70,
   "metadata": {},
   "outputs": [],
   "source": [
    "from pprint import pprint"
   ]
  },
  {
   "cell_type": "code",
   "execution_count": 71,
   "metadata": {},
   "outputs": [
    {
     "name": "stdout",
     "output_type": "stream",
     "text": [
      "[{'_id': ObjectId('5d896c27e6d7c94cdb8a36bc'),\n",
      "  'city': 'San Marcos',\n",
      "  'comments': 'This event took place in early fall around 1949-50. It occurred '\n",
      "              'after a Boy Scout meeting in the Baptist Church. The Baptist '\n",
      "              'Church sit',\n",
      "  'country': 'US',\n",
      "  'date': '10/10/1949',\n",
      "  'datetime': '10/10/1949 20:30',\n",
      "  'duration (seconds)': '2700',\n",
      "  'latitude': '29.8830556',\n",
      "  'longitude ': '-97.9411111',\n",
      "  'shape': 'Cylinder',\n",
      "  'state': 'TX',\n",
      "  'time': '20:30'},\n",
      " {'_id': ObjectId('5d896c27e6d7c94cdb8a36bd'),\n",
      "  'city': 'Edna',\n",
      "  'comments': 'My older brother and twin sister were leaving the only Edna '\n",
      "              'theater at about 9 PM&#44...we had our bikes and I took a '\n",
      "              'different route home',\n",
      "  'country': 'US',\n",
      "  'date': '10/10/1956',\n",
      "  'datetime': '10/10/1956 21:00',\n",
      "  'duration (seconds)': '20',\n",
      "  'latitude': '28.9783333',\n",
      "  'longitude ': '-96.6458333',\n",
      "  'shape': 'Circle',\n",
      "  'state': 'TX',\n",
      "  'time': '21:00'},\n",
      " {'_id': ObjectId('5d896c27e6d7c94cdb8a36be'),\n",
      "  'city': 'Kaneohe',\n",
      "  'comments': 'AS a Marine 1st Lt. flying an FJ4B fighter/attack aircraft on a '\n",
      "              'solo night exercise&#44 I was at 50&#44000&#39 in a '\n",
      "              '&quot;clean&quot; aircraft (no ordinan',\n",
      "  'country': 'US',\n",
      "  'date': '10/10/1960',\n",
      "  'datetime': '10/10/1960 20:00',\n",
      "  'duration (seconds)': '900',\n",
      "  'latitude': '21.4180556',\n",
      "  'longitude ': '-157.8036111',\n",
      "  'shape': 'Light',\n",
      "  'state': 'HI',\n",
      "  'time': '20:00'},\n",
      " {'_id': ObjectId('5d896c27e6d7c94cdb8a36bf'),\n",
      "  'city': 'Bristol',\n",
      "  'comments': 'My father is now 89 my brother 52 the girl with us now 51 '\n",
      "              'myself 49 and the other fellow which worked with my father if '\n",
      "              'he&#39s still livi',\n",
      "  'country': 'US',\n",
      "  'date': '10/10/1961',\n",
      "  'datetime': '10/10/1961 19:00',\n",
      "  'duration (seconds)': '300',\n",
      "  'latitude': '36.5950000',\n",
      "  'longitude ': '-82.1888889',\n",
      "  'shape': 'Sphere',\n",
      "  'state': 'TN',\n",
      "  'time': '19:00'},\n",
      " {'_id': ObjectId('5d896c27e6d7c94cdb8a36c0'),\n",
      "  'city': 'Norwalk',\n",
      "  'comments': 'A bright orange color changing to reddish color disk/saucer was '\n",
      "              'observed hovering above power transmission lines.',\n",
      "  'country': 'US',\n",
      "  'date': '10/10/1965',\n",
      "  'datetime': '10/10/1965 23:45',\n",
      "  'duration (seconds)': '1200',\n",
      "  'latitude': '41.1175000',\n",
      "  'longitude ': '-73.4083333',\n",
      "  'shape': 'Disk',\n",
      "  'state': 'CT',\n",
      "  'time': '23:45'},\n",
      " {'_id': ObjectId('5d896c27e6d7c94cdb8a36c1'),\n",
      "  'city': 'Pell City',\n",
      "  'comments': 'Strobe Lighted disk shape object observed close&#44 at low '\n",
      "              'speeds&#44 and low altitude in Oct 1966 in Pell City Alabama',\n",
      "  'country': 'US',\n",
      "  'date': '10/10/1966',\n",
      "  'datetime': '10/10/1966 20:00',\n",
      "  'duration (seconds)': '180',\n",
      "  'latitude': '33.5861111',\n",
      "  'longitude ': '-86.2861111',\n",
      "  'shape': 'Disk',\n",
      "  'state': 'AL',\n",
      "  'time': '20:00'},\n",
      " {'_id': ObjectId('5d896c27e6d7c94cdb8a36c2'),\n",
      "  'city': 'Live Oak',\n",
      "  'comments': 'Saucer zaps energy from powerline as my pregnant mother '\n",
      "              'receives mental signals not to pass info',\n",
      "  'country': 'US',\n",
      "  'date': '10/10/1966',\n",
      "  'datetime': '10/10/1966 21:00',\n",
      "  'duration (seconds)': '120',\n",
      "  'latitude': '30.2947222',\n",
      "  'longitude ': '-82.9841667',\n",
      "  'shape': 'Disk',\n",
      "  'state': 'FL',\n",
      "  'time': '21:00'},\n",
      " {'_id': ObjectId('5d896c27e6d7c94cdb8a36c3'),\n",
      "  'city': 'Hawthorne',\n",
      "  'comments': 'ROUND &#44 ORANGE &#44 WITH WHAT I WOULD SAY WAS POLISHED METAL '\n",
      "              'OF SOME KIND AROUND THE EDGES .',\n",
      "  'country': 'US',\n",
      "  'date': '10/10/1968',\n",
      "  'datetime': '10/10/1968 13:00',\n",
      "  'duration (seconds)': '300',\n",
      "  'latitude': '33.9163889',\n",
      "  'longitude ': '-118.3516667',\n",
      "  'shape': 'Circle',\n",
      "  'state': 'CA',\n",
      "  'time': '13:00'},\n",
      " {'_id': ObjectId('5d896c27e6d7c94cdb8a36c4'),\n",
      "  'city': 'Brevard',\n",
      "  'comments': 'silent red /orange mass of energy floated by three of us in '\n",
      "              'western North Carolina in the 60s',\n",
      "  'country': 'US',\n",
      "  'date': '10/10/1968',\n",
      "  'datetime': '10/10/1968 19:00',\n",
      "  'duration (seconds)': '180',\n",
      "  'latitude': '35.2333333',\n",
      "  'longitude ': '-82.7344444',\n",
      "  'shape': 'Fireball',\n",
      "  'state': 'NC',\n",
      "  'time': '19:00'},\n",
      " {'_id': ObjectId('5d896c27e6d7c94cdb8a36c5'),\n",
      "  'city': 'Bellmore',\n",
      "  'comments': 'silver disc seen by family and neighbors',\n",
      "  'country': 'US',\n",
      "  'date': '10/10/1970',\n",
      "  'datetime': '10/10/1970 16:00',\n",
      "  'duration (seconds)': '1800',\n",
      "  'latitude': '40.6686111',\n",
      "  'longitude ': '-73.5275000',\n",
      "  'shape': 'Disk',\n",
      "  'state': 'NY',\n",
      "  'time': '16:00'}]\n"
     ]
    }
   ],
   "source": [
    "# Get top 10 records from UFO mongo collection\n",
    "data = list(db.ufo_data.find().limit(10))\n",
    "pprint(data)"
   ]
  },
  {
   "cell_type": "code",
   "execution_count": 85,
   "metadata": {},
   "outputs": [
    {
     "data": {
      "text/plain": [
       "65114"
      ]
     },
     "execution_count": 85,
     "metadata": {},
     "output_type": "execute_result"
    }
   ],
   "source": [
    "# Check collection document count and verify it matches the rows of pd dataframe\n",
    "db.ufo_data.count_documents({}, )"
   ]
  },
  {
   "cell_type": "code",
   "execution_count": 76,
   "metadata": {},
   "outputs": [
    {
     "data": {
      "text/plain": [
       "['ufo_data']"
      ]
     },
     "execution_count": 76,
     "metadata": {},
     "output_type": "execute_result"
    }
   ],
   "source": [
    "db.list_collection_names()"
   ]
  },
  {
   "cell_type": "code",
   "execution_count": null,
   "metadata": {},
   "outputs": [],
   "source": []
  }
 ],
 "metadata": {
  "kernelspec": {
   "display_name": "Python 3",
   "language": "python",
   "name": "python3"
  },
  "language_info": {
   "codemirror_mode": {
    "name": "ipython",
    "version": 3
   },
   "file_extension": ".py",
   "mimetype": "text/x-python",
   "name": "python",
   "nbconvert_exporter": "python",
   "pygments_lexer": "ipython3",
   "version": "3.7.3"
  }
 },
 "nbformat": 4,
 "nbformat_minor": 2
}
